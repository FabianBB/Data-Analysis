{
 "cells": [
  {
   "cell_type": "markdown",
   "metadata": {},
   "source": [
    "Add your information below and submit the file via canvas (till the end of the day) to claim points for the participation point.\n",
    "\n",
    "**Name**: Fabian Brock\n",
    "\n",
    "**Group number**: I was not in class due to illness, my data madness group is 19\n",
    "\n",
    "**Collaborators**: none"
   ]
  },
  {
   "cell_type": "markdown",
   "metadata": {},
   "source": [
    "## Bootcamp B2: Pandas Example"
   ]
  },
  {
   "cell_type": "code",
   "execution_count": 35,
   "metadata": {},
   "outputs": [],
   "source": [
    "import pandas as pd\n",
    "hit_albums = pd.read_csv(\"hit_albums.csv\")"
   ]
  },
  {
   "cell_type": "markdown",
   "metadata": {},
   "source": [
    "- Calculate the mean certified sales for all albums."
   ]
  },
  {
   "cell_type": "code",
   "execution_count": 36,
   "metadata": {},
   "outputs": [
    {
     "data": {
      "text/plain": "22.40909090909091"
     },
     "execution_count": 36,
     "metadata": {},
     "output_type": "execute_result"
    }
   ],
   "source": [
    "hit_albums[\"Certified sales (millions)\"].mean()"
   ]
  },
  {
   "cell_type": "markdown",
   "metadata": {},
   "source": [
    "- Create a new dataframe that only contains albums with more than 20 million certified sales."
   ]
  },
  {
   "cell_type": "code",
   "execution_count": 37,
   "metadata": {},
   "outputs": [
    {
     "data": {
      "text/plain": "                               Artist  \\\n0                     Michael Jackson   \n1                               AC/DC   \n2                          Pink Floyd   \n3   Whitney Houston / Various artists   \n4                           Meat Loaf   \n..                                ...   \n72                      Tracy Chapman   \n73                              Usher   \n74                    Various artists   \n75                    Whitney Houston   \n76                            Shakira   \n\n                                                Album  Released  \\\n0                                            Thriller      1982   \n1                                       Back in Black      1980   \n2                           The Dark Side of the Moon      1973   \n3                                       The Bodyguard      1992   \n4                                     Bat Out of Hell      1977   \n..                                                ...       ...   \n72                                      Tracy Chapman      1988   \n73                                        Confessions      2004   \n74  Flashdance: Original Soundtrack from the Motio...      1983   \n75                                            Whitney      1987   \n76                                    Laundry Service      2001   \n\n                          Genre  Certified sales (millions)  \\\n0                Pop, rock, R&B                        45.4   \n1                     Hard rock                        25.9   \n2              Progressive rock                        22.7   \n3     Soundtrack/R&B, soul, pop                        27.4   \n4   Hard rock, progressive rock                        20.6   \n..                          ...                         ...   \n72                    Folk rock                        20.0   \n73                          R&B                        20.0   \n74                   Soundtrack                        20.0   \n75                     Pop, R&B                        20.0   \n76                    Pop, Rock                        20.0   \n\n    Claimed sales (millions)  \n0                       65.0  \n1                       50.0  \n2                       45.0  \n3                       44.0  \n4                       43.0  \n..                       ...  \n72                       NaN  \n73                       NaN  \n74                       NaN  \n75                       NaN  \n76                       NaN  \n\n[63 rows x 6 columns]",
      "text/html": "<div>\n<style scoped>\n    .dataframe tbody tr th:only-of-type {\n        vertical-align: middle;\n    }\n\n    .dataframe tbody tr th {\n        vertical-align: top;\n    }\n\n    .dataframe thead th {\n        text-align: right;\n    }\n</style>\n<table border=\"1\" class=\"dataframe\">\n  <thead>\n    <tr style=\"text-align: right;\">\n      <th></th>\n      <th>Artist</th>\n      <th>Album</th>\n      <th>Released</th>\n      <th>Genre</th>\n      <th>Certified sales (millions)</th>\n      <th>Claimed sales (millions)</th>\n    </tr>\n  </thead>\n  <tbody>\n    <tr>\n      <th>0</th>\n      <td>Michael Jackson</td>\n      <td>Thriller</td>\n      <td>1982</td>\n      <td>Pop, rock, R&amp;B</td>\n      <td>45.4</td>\n      <td>65.0</td>\n    </tr>\n    <tr>\n      <th>1</th>\n      <td>AC/DC</td>\n      <td>Back in Black</td>\n      <td>1980</td>\n      <td>Hard rock</td>\n      <td>25.9</td>\n      <td>50.0</td>\n    </tr>\n    <tr>\n      <th>2</th>\n      <td>Pink Floyd</td>\n      <td>The Dark Side of the Moon</td>\n      <td>1973</td>\n      <td>Progressive rock</td>\n      <td>22.7</td>\n      <td>45.0</td>\n    </tr>\n    <tr>\n      <th>3</th>\n      <td>Whitney Houston / Various artists</td>\n      <td>The Bodyguard</td>\n      <td>1992</td>\n      <td>Soundtrack/R&amp;B, soul, pop</td>\n      <td>27.4</td>\n      <td>44.0</td>\n    </tr>\n    <tr>\n      <th>4</th>\n      <td>Meat Loaf</td>\n      <td>Bat Out of Hell</td>\n      <td>1977</td>\n      <td>Hard rock, progressive rock</td>\n      <td>20.6</td>\n      <td>43.0</td>\n    </tr>\n    <tr>\n      <th>...</th>\n      <td>...</td>\n      <td>...</td>\n      <td>...</td>\n      <td>...</td>\n      <td>...</td>\n      <td>...</td>\n    </tr>\n    <tr>\n      <th>72</th>\n      <td>Tracy Chapman</td>\n      <td>Tracy Chapman</td>\n      <td>1988</td>\n      <td>Folk rock</td>\n      <td>20.0</td>\n      <td>NaN</td>\n    </tr>\n    <tr>\n      <th>73</th>\n      <td>Usher</td>\n      <td>Confessions</td>\n      <td>2004</td>\n      <td>R&amp;B</td>\n      <td>20.0</td>\n      <td>NaN</td>\n    </tr>\n    <tr>\n      <th>74</th>\n      <td>Various artists</td>\n      <td>Flashdance: Original Soundtrack from the Motio...</td>\n      <td>1983</td>\n      <td>Soundtrack</td>\n      <td>20.0</td>\n      <td>NaN</td>\n    </tr>\n    <tr>\n      <th>75</th>\n      <td>Whitney Houston</td>\n      <td>Whitney</td>\n      <td>1987</td>\n      <td>Pop, R&amp;B</td>\n      <td>20.0</td>\n      <td>NaN</td>\n    </tr>\n    <tr>\n      <th>76</th>\n      <td>Shakira</td>\n      <td>Laundry Service</td>\n      <td>2001</td>\n      <td>Pop, Rock</td>\n      <td>20.0</td>\n      <td>NaN</td>\n    </tr>\n  </tbody>\n</table>\n<p>63 rows × 6 columns</p>\n</div>"
     },
     "execution_count": 37,
     "metadata": {},
     "output_type": "execute_result"
    }
   ],
   "source": [
    "df = hit_albums.drop(hit_albums.loc[hit_albums['Certified sales (millions)'] < 20].index)\n",
    "df"
   ]
  },
  {
   "cell_type": "markdown",
   "metadata": {},
   "source": [
    "- Create a new dataframe based on the `hit_albums` dataset that only contains the artists that have at least two albums in the list."
   ]
  },
  {
   "cell_type": "code",
   "execution_count": 38,
   "metadata": {},
   "outputs": [
    {
     "data": {
      "text/plain": "             Artist  cnt\n3             Adele    2\n6   Backstreet Boys    2\n9          Bon Jovi    2\n11   Britney Spears    2\n14      Celine Dion    2\n18           Eagles    2\n29          Madonna    3\n30     Mariah Carey    2\n33  Michael Jackson    5\n38       Pink Floyd    2\n43     Shania Twain    3\n48      The Beatles    3\n53  Various artists    3\n54  Whitney Houston    2",
      "text/html": "<div>\n<style scoped>\n    .dataframe tbody tr th:only-of-type {\n        vertical-align: middle;\n    }\n\n    .dataframe tbody tr th {\n        vertical-align: top;\n    }\n\n    .dataframe thead th {\n        text-align: right;\n    }\n</style>\n<table border=\"1\" class=\"dataframe\">\n  <thead>\n    <tr style=\"text-align: right;\">\n      <th></th>\n      <th>Artist</th>\n      <th>cnt</th>\n    </tr>\n  </thead>\n  <tbody>\n    <tr>\n      <th>3</th>\n      <td>Adele</td>\n      <td>2</td>\n    </tr>\n    <tr>\n      <th>6</th>\n      <td>Backstreet Boys</td>\n      <td>2</td>\n    </tr>\n    <tr>\n      <th>9</th>\n      <td>Bon Jovi</td>\n      <td>2</td>\n    </tr>\n    <tr>\n      <th>11</th>\n      <td>Britney Spears</td>\n      <td>2</td>\n    </tr>\n    <tr>\n      <th>14</th>\n      <td>Celine Dion</td>\n      <td>2</td>\n    </tr>\n    <tr>\n      <th>18</th>\n      <td>Eagles</td>\n      <td>2</td>\n    </tr>\n    <tr>\n      <th>29</th>\n      <td>Madonna</td>\n      <td>3</td>\n    </tr>\n    <tr>\n      <th>30</th>\n      <td>Mariah Carey</td>\n      <td>2</td>\n    </tr>\n    <tr>\n      <th>33</th>\n      <td>Michael Jackson</td>\n      <td>5</td>\n    </tr>\n    <tr>\n      <th>38</th>\n      <td>Pink Floyd</td>\n      <td>2</td>\n    </tr>\n    <tr>\n      <th>43</th>\n      <td>Shania Twain</td>\n      <td>3</td>\n    </tr>\n    <tr>\n      <th>48</th>\n      <td>The Beatles</td>\n      <td>3</td>\n    </tr>\n    <tr>\n      <th>53</th>\n      <td>Various artists</td>\n      <td>3</td>\n    </tr>\n    <tr>\n      <th>54</th>\n      <td>Whitney Houston</td>\n      <td>2</td>\n    </tr>\n  </tbody>\n</table>\n</div>"
     },
     "execution_count": 38,
     "metadata": {},
     "output_type": "execute_result"
    }
   ],
   "source": [
    "# I am assuming the dataset should only contain artist and count\n",
    "df1 = hit_albums.groupby(\"Artist\").size().reset_index(name='cnt')\n",
    "df1 = df1[df1.cnt >= 2]\n",
    "df1"
   ]
  },
  {
   "cell_type": "code",
   "execution_count": 39,
   "outputs": [
    {
     "data": {
      "text/plain": "                               Artist                                Album  \\\n3   Whitney Houston / Various artists                        The Bodyguard   \n6          Bee Gees / Various artists                 Saturday Night Fever   \n9                        Led Zeppelin                      Led Zeppelin IV   \n11                  Alanis Morissette                   Jagged Little Pill   \n14                             Eagles                     Hotel California   \n18                        Celine Dion                Let's Talk About Love   \n29                            Santana                         Supernatural   \n30                      Guns N' Roses             Appetite for Destruction   \n33                        Spice Girls                                Spice   \n38                        Carole King                             Tapestry   \n43                       Phil Collins                   No Jacket Required   \n48                    Backstreet Boys  Backstreet's Back / Backstreet Boys   \n53                              Oasis    (What's the Story) Morning Glory?   \n54                           Bon Jovi                           Cross Road   \n\n    Released                       Genre  Certified sales (millions)  \\\n3       1992   Soundtrack/R&B, soul, pop                        27.4   \n6       1977                       Disco                        19.0   \n9       1971      Hard rock, heavy metal                        29.0   \n11      1995            Alternative rock                        24.8   \n14      1976  Rock, soft rock, folk rock                        21.5   \n18      1997              Pop, Soft rock                        19.3   \n29      1999                        Rock                        20.5   \n30      1987      Heavy metal, hard rock                        21.3   \n33      1996                         Pop                        28.0   \n38      1971                         Pop                        25.0   \n43      1985                   Pop, Rock                        25.0   \n48      1997                         Pop                        24.0   \n53      1995               Britpop, rock                        22.0   \n54      1994                   Hard rock                        21.0   \n\n    Claimed sales (millions)  \n3                       44.0  \n6                       40.0  \n9                       37.0  \n11                      33.0  \n14                      32.0  \n18                      31.0  \n29                      30.0  \n30                      30.0  \n33                       NaN  \n38                       NaN  \n43                       NaN  \n48                       NaN  \n53                       NaN  \n54                       NaN  ",
      "text/html": "<div>\n<style scoped>\n    .dataframe tbody tr th:only-of-type {\n        vertical-align: middle;\n    }\n\n    .dataframe tbody tr th {\n        vertical-align: top;\n    }\n\n    .dataframe thead th {\n        text-align: right;\n    }\n</style>\n<table border=\"1\" class=\"dataframe\">\n  <thead>\n    <tr style=\"text-align: right;\">\n      <th></th>\n      <th>Artist</th>\n      <th>Album</th>\n      <th>Released</th>\n      <th>Genre</th>\n      <th>Certified sales (millions)</th>\n      <th>Claimed sales (millions)</th>\n    </tr>\n  </thead>\n  <tbody>\n    <tr>\n      <th>3</th>\n      <td>Whitney Houston / Various artists</td>\n      <td>The Bodyguard</td>\n      <td>1992</td>\n      <td>Soundtrack/R&amp;B, soul, pop</td>\n      <td>27.4</td>\n      <td>44.0</td>\n    </tr>\n    <tr>\n      <th>6</th>\n      <td>Bee Gees / Various artists</td>\n      <td>Saturday Night Fever</td>\n      <td>1977</td>\n      <td>Disco</td>\n      <td>19.0</td>\n      <td>40.0</td>\n    </tr>\n    <tr>\n      <th>9</th>\n      <td>Led Zeppelin</td>\n      <td>Led Zeppelin IV</td>\n      <td>1971</td>\n      <td>Hard rock, heavy metal</td>\n      <td>29.0</td>\n      <td>37.0</td>\n    </tr>\n    <tr>\n      <th>11</th>\n      <td>Alanis Morissette</td>\n      <td>Jagged Little Pill</td>\n      <td>1995</td>\n      <td>Alternative rock</td>\n      <td>24.8</td>\n      <td>33.0</td>\n    </tr>\n    <tr>\n      <th>14</th>\n      <td>Eagles</td>\n      <td>Hotel California</td>\n      <td>1976</td>\n      <td>Rock, soft rock, folk rock</td>\n      <td>21.5</td>\n      <td>32.0</td>\n    </tr>\n    <tr>\n      <th>18</th>\n      <td>Celine Dion</td>\n      <td>Let's Talk About Love</td>\n      <td>1997</td>\n      <td>Pop, Soft rock</td>\n      <td>19.3</td>\n      <td>31.0</td>\n    </tr>\n    <tr>\n      <th>29</th>\n      <td>Santana</td>\n      <td>Supernatural</td>\n      <td>1999</td>\n      <td>Rock</td>\n      <td>20.5</td>\n      <td>30.0</td>\n    </tr>\n    <tr>\n      <th>30</th>\n      <td>Guns N' Roses</td>\n      <td>Appetite for Destruction</td>\n      <td>1987</td>\n      <td>Heavy metal, hard rock</td>\n      <td>21.3</td>\n      <td>30.0</td>\n    </tr>\n    <tr>\n      <th>33</th>\n      <td>Spice Girls</td>\n      <td>Spice</td>\n      <td>1996</td>\n      <td>Pop</td>\n      <td>28.0</td>\n      <td>NaN</td>\n    </tr>\n    <tr>\n      <th>38</th>\n      <td>Carole King</td>\n      <td>Tapestry</td>\n      <td>1971</td>\n      <td>Pop</td>\n      <td>25.0</td>\n      <td>NaN</td>\n    </tr>\n    <tr>\n      <th>43</th>\n      <td>Phil Collins</td>\n      <td>No Jacket Required</td>\n      <td>1985</td>\n      <td>Pop, Rock</td>\n      <td>25.0</td>\n      <td>NaN</td>\n    </tr>\n    <tr>\n      <th>48</th>\n      <td>Backstreet Boys</td>\n      <td>Backstreet's Back / Backstreet Boys</td>\n      <td>1997</td>\n      <td>Pop</td>\n      <td>24.0</td>\n      <td>NaN</td>\n    </tr>\n    <tr>\n      <th>53</th>\n      <td>Oasis</td>\n      <td>(What's the Story) Morning Glory?</td>\n      <td>1995</td>\n      <td>Britpop, rock</td>\n      <td>22.0</td>\n      <td>NaN</td>\n    </tr>\n    <tr>\n      <th>54</th>\n      <td>Bon Jovi</td>\n      <td>Cross Road</td>\n      <td>1994</td>\n      <td>Hard rock</td>\n      <td>21.0</td>\n      <td>NaN</td>\n    </tr>\n  </tbody>\n</table>\n</div>"
     },
     "execution_count": 39,
     "metadata": {},
     "output_type": "execute_result"
    }
   ],
   "source": [
    "# In case the entire dataframe is wanted\n",
    "df2 = hit_albums[hit_albums.index.isin(df1.index)]\n",
    "df2"
   ],
   "metadata": {
    "collapsed": false,
    "pycharm": {
     "name": "#%%\n"
    }
   }
  },
  {
   "cell_type": "markdown",
   "metadata": {},
   "source": [
    "- Create a new dataframe that contains the aggregates sum of all certified sales for each year."
   ]
  },
  {
   "cell_type": "code",
   "execution_count": 40,
   "metadata": {},
   "outputs": [
    {
     "data": {
      "text/plain": "Released\n1967     32.0\n1969     30.0\n1970      0.0\n1971     37.0\n1973     45.0\n1976     74.0\n1977    123.0\n1978      0.0\n1979     30.0\n1980     50.0\n1981      0.0\n1982     65.0\n1983      0.0\n1984     30.0\n1985     30.0\n1986      0.0\n1987     96.0\n1988      0.0\n1990     30.0\n1991     92.0\n1992     44.0\n1993     32.0\n1994      0.0\n1995     33.0\n1996     32.0\n1997    100.0\n1999     30.0\n2000     31.0\n2001      0.0\n2002      0.0\n2004      0.0\n2011     30.0\n2015      0.0\nName: Claimed sales (millions), dtype: float64"
     },
     "execution_count": 40,
     "metadata": {},
     "output_type": "execute_result"
    }
   ],
   "source": [
    "# I am unsure what the task wants, so I did it 2 ways\n",
    "df3 = hit_albums.groupby(\"Released\").sum()[\"Claimed sales (millions)\"]\n",
    "df3"
   ]
  },
  {
   "cell_type": "code",
   "execution_count": 41,
   "outputs": [
    {
     "data": {
      "text/plain": "          Certified sales (millions)  Claimed sales (millions)\nReleased                                                      \n1967                            13.1                      32.0\n1969                            14.4                      30.0\n1970                            25.0                       0.0\n1971                            54.0                      37.0\n1973                            22.7                      45.0\n1976                            73.7                      74.0\n1977                            67.5                     123.0\n1978                            28.0                       0.0\n1979                            57.6                      30.0\n1980                            25.9                      50.0\n1981                            25.0                       0.0\n1982                            45.4                      65.0\n1983                            62.0                       0.0\n1984                           109.6                      30.0\n1985                            67.7                      30.0\n1986                            53.0                       0.0\n1987                           144.5                      96.0\n1988                            20.0                       0.0\n1990                            19.4                      30.0\n1991                            54.2                      92.0\n1992                            76.4                      44.0\n1993                            42.0                      32.0\n1994                            64.0                       0.0\n1995                           111.8                      33.0\n1996                            48.2                      32.0\n1997                            91.0                     100.0\n1999                            72.5                      30.0\n2000                            89.6                      31.0\n2001                            20.0                       0.0\n2002                            65.0                       0.0\n2004                            20.0                       0.0\n2011                            22.3                      30.0\n2015                            20.0                       0.0",
      "text/html": "<div>\n<style scoped>\n    .dataframe tbody tr th:only-of-type {\n        vertical-align: middle;\n    }\n\n    .dataframe tbody tr th {\n        vertical-align: top;\n    }\n\n    .dataframe thead th {\n        text-align: right;\n    }\n</style>\n<table border=\"1\" class=\"dataframe\">\n  <thead>\n    <tr style=\"text-align: right;\">\n      <th></th>\n      <th>Certified sales (millions)</th>\n      <th>Claimed sales (millions)</th>\n    </tr>\n    <tr>\n      <th>Released</th>\n      <th></th>\n      <th></th>\n    </tr>\n  </thead>\n  <tbody>\n    <tr>\n      <th>1967</th>\n      <td>13.1</td>\n      <td>32.0</td>\n    </tr>\n    <tr>\n      <th>1969</th>\n      <td>14.4</td>\n      <td>30.0</td>\n    </tr>\n    <tr>\n      <th>1970</th>\n      <td>25.0</td>\n      <td>0.0</td>\n    </tr>\n    <tr>\n      <th>1971</th>\n      <td>54.0</td>\n      <td>37.0</td>\n    </tr>\n    <tr>\n      <th>1973</th>\n      <td>22.7</td>\n      <td>45.0</td>\n    </tr>\n    <tr>\n      <th>1976</th>\n      <td>73.7</td>\n      <td>74.0</td>\n    </tr>\n    <tr>\n      <th>1977</th>\n      <td>67.5</td>\n      <td>123.0</td>\n    </tr>\n    <tr>\n      <th>1978</th>\n      <td>28.0</td>\n      <td>0.0</td>\n    </tr>\n    <tr>\n      <th>1979</th>\n      <td>57.6</td>\n      <td>30.0</td>\n    </tr>\n    <tr>\n      <th>1980</th>\n      <td>25.9</td>\n      <td>50.0</td>\n    </tr>\n    <tr>\n      <th>1981</th>\n      <td>25.0</td>\n      <td>0.0</td>\n    </tr>\n    <tr>\n      <th>1982</th>\n      <td>45.4</td>\n      <td>65.0</td>\n    </tr>\n    <tr>\n      <th>1983</th>\n      <td>62.0</td>\n      <td>0.0</td>\n    </tr>\n    <tr>\n      <th>1984</th>\n      <td>109.6</td>\n      <td>30.0</td>\n    </tr>\n    <tr>\n      <th>1985</th>\n      <td>67.7</td>\n      <td>30.0</td>\n    </tr>\n    <tr>\n      <th>1986</th>\n      <td>53.0</td>\n      <td>0.0</td>\n    </tr>\n    <tr>\n      <th>1987</th>\n      <td>144.5</td>\n      <td>96.0</td>\n    </tr>\n    <tr>\n      <th>1988</th>\n      <td>20.0</td>\n      <td>0.0</td>\n    </tr>\n    <tr>\n      <th>1990</th>\n      <td>19.4</td>\n      <td>30.0</td>\n    </tr>\n    <tr>\n      <th>1991</th>\n      <td>54.2</td>\n      <td>92.0</td>\n    </tr>\n    <tr>\n      <th>1992</th>\n      <td>76.4</td>\n      <td>44.0</td>\n    </tr>\n    <tr>\n      <th>1993</th>\n      <td>42.0</td>\n      <td>32.0</td>\n    </tr>\n    <tr>\n      <th>1994</th>\n      <td>64.0</td>\n      <td>0.0</td>\n    </tr>\n    <tr>\n      <th>1995</th>\n      <td>111.8</td>\n      <td>33.0</td>\n    </tr>\n    <tr>\n      <th>1996</th>\n      <td>48.2</td>\n      <td>32.0</td>\n    </tr>\n    <tr>\n      <th>1997</th>\n      <td>91.0</td>\n      <td>100.0</td>\n    </tr>\n    <tr>\n      <th>1999</th>\n      <td>72.5</td>\n      <td>30.0</td>\n    </tr>\n    <tr>\n      <th>2000</th>\n      <td>89.6</td>\n      <td>31.0</td>\n    </tr>\n    <tr>\n      <th>2001</th>\n      <td>20.0</td>\n      <td>0.0</td>\n    </tr>\n    <tr>\n      <th>2002</th>\n      <td>65.0</td>\n      <td>0.0</td>\n    </tr>\n    <tr>\n      <th>2004</th>\n      <td>20.0</td>\n      <td>0.0</td>\n    </tr>\n    <tr>\n      <th>2011</th>\n      <td>22.3</td>\n      <td>30.0</td>\n    </tr>\n    <tr>\n      <th>2015</th>\n      <td>20.0</td>\n      <td>0.0</td>\n    </tr>\n  </tbody>\n</table>\n</div>"
     },
     "execution_count": 41,
     "metadata": {},
     "output_type": "execute_result"
    }
   ],
   "source": [
    "df4 = hit_albums.groupby(\"Released\").sum()\n",
    "df4"
   ],
   "metadata": {
    "collapsed": false,
    "pycharm": {
     "name": "#%%\n"
    }
   }
  },
  {
   "cell_type": "code",
   "execution_count": 41,
   "outputs": [],
   "source": [],
   "metadata": {
    "collapsed": false,
    "pycharm": {
     "name": "#%%\n"
    }
   }
  }
 ],
 "metadata": {
  "anaconda-cloud": {},
  "kernelspec": {
   "display_name": "Python 3",
   "language": "python",
   "name": "python3"
  },
  "language_info": {
   "codemirror_mode": {
    "name": "ipython",
    "version": 3
   },
   "file_extension": ".py",
   "mimetype": "text/x-python",
   "name": "python",
   "nbconvert_exporter": "python",
   "pygments_lexer": "ipython3",
   "version": "3.8.3"
  },
  "nbpresent": {
   "slides": {
    "19a6495f-8346-4b23-a98a-c7115941e8f0": {
     "id": "19a6495f-8346-4b23-a98a-c7115941e8f0",
     "prev": null,
     "regions": {
      "d6523b36-7204-4001-8a6c-37c431b18d26": {
       "attrs": {
        "height": 1,
        "width": 1,
        "x": 0,
        "y": 0
       },
       "id": "d6523b36-7204-4001-8a6c-37c431b18d26"
      }
     }
    }
   },
   "themes": {}
  }
 },
 "nbformat": 4,
 "nbformat_minor": 1
}