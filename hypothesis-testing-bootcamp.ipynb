{
 "cells": [
  {
   "cell_type": "markdown",
   "metadata": {},
   "source": [
    "Make sure that you **all** self-enrol to the corresponding group (Bootcamp3-X*) via canvas (canvas group number *X*) <br>\n",
    "Add all names below <br>\n",
    "Only one should submit the file (till the end of the day) to claim points for the participation point. <br>\n",
    "All team members get the same number of points unless otherwise communicated to Jerry\n",
    "\n",
    "**Canvas group number**: Bootcamp3 7\n",
    "\n",
    "**Collaborators**: none"
   ]
  },
  {
   "cell_type": "code",
   "execution_count": 8,
   "metadata": {},
   "outputs": [],
   "source": [
    "#check other import packages that might be missing\n",
    "import pandas as pd\n",
    "import numpy as np\n",
    "\n",
    "import scipy as sc\n",
    "from scipy.stats import bernoulli\n",
    "from scipy.stats import binom\n",
    "from scipy.stats import norm\n",
    "from scipy.stats import t\n",
    "from scipy.stats import probplot\n",
    "\n",
    "import matplotlib.pyplot as plt\n",
    "%matplotlib inline\n",
    "plt.rcParams['figure.figsize'] = (10, 6)\n",
    "plt.style.use('ggplot')\n"
   ]
  },
  {
   "cell_type": "markdown",
   "metadata": {},
   "source": [
    "## A-B testing\n",
    "\n",
    "Suppose your company is developing a new logo. The art department develops two logos: ‘Logo A’ and ‘Logo B’, shown below. \n",
    "![](http://www.wired.com/wiredenterprise/wp-content/gallery/20-05/ff_abtesting_f.jpg)\n",
    "Your job is to figure out which logo is better. \n",
    "\n",
    "\n",
    "You decide to conduct the following experiment. You use Google ads to buy 2000 advertisements. In $N_A=1000$ of the ads (randomly chosen), you use Logo A and in the other $N_B=1000$ ads, you use Logo B. Then you see which logo attracts more clicks.\n",
    "\n",
    "It turns out that $n_A=500$ Logo A viewers click on the ad while $n_B=550$ Logo B viewers click on the ad. Obviously Logo B did better in this test, but is the difference *significant* enough to say that Logo B is better? Or, perhaps, Logo B just got lucky in this test? \n",
    "\n",
    "The goal of this exercise will be to conduct a two-proportion z-test (re-visit the Polio experiment from the lecture notebook) to determine if Logo B is better."
   ]
  },
  {
   "cell_type": "markdown",
   "metadata": {},
   "source": [
    "### Task 1.  Formulate null hypothesis \n",
    "\n",
    "Let $p_A = n_A/N_A$ be the proportion of clicks on Logo A and similiarly $p_B$ be the proportion of clicks on Logo B. In terms of $p_A$ and $p_B$, clearly state the null and alternative hypothesis. "
   ]
  },
  {
   "cell_type": "markdown",
   "metadata": {},
   "source": [
    "**Your Solution:** H0: Pb - Pa <= 0 (B is better)\n",
    "H1: Pb - Pa > 0 (A is better)"
   ]
  },
  {
   "cell_type": "markdown",
   "metadata": {},
   "source": [
    "### Task 2.  Perform the two-proportion z-value  test and calculate the p-value \n",
    "\n",
    "Assuming the null hypothesis, we know from lecture that the test statistic, called the *two-proportion z-value*. Find the two-proportion z-value and the p-value"
   ]
  },
  {
   "cell_type": "markdown",
   "metadata": {},
   "source": [
    "**Your Solution:**"
   ]
  },
  {
   "cell_type": "code",
   "execution_count": 9,
   "outputs": [
    {
     "name": "stdout",
     "output_type": "stream",
     "text": [
      "1.6205719481533096\n",
      "0.052554736201990915\n"
     ]
    }
   ],
   "source": [
    "\n",
    "N = 1000 # number of ads per logo\n",
    "nA = 500 # number of clicks on A\n",
    "nB = 550 # number of clicks on b\n",
    "\n",
    "# percentages\n",
    "pA = nA/N\n",
    "pB = nB/N\n",
    "\n",
    "# standard dev\n",
    "sigmaA = np.sqrt(pA*(1-pA)/N)\n",
    "sigmaB = np.sqrt(pB*(1-pB)/N)\n",
    "\n",
    "phat = nA * pA / (nA+nB) + nB * pB / (nA+nB)\n",
    "qhat = 1 - phat\n",
    "\n",
    "z = (pB - pA) / np.sqrt(phat * qhat * (1/nA + 1/nB))\n",
    "print(z)\n",
    "p_value = 1-norm.cdf(z)\n",
    "print(p_value)"
   ],
   "metadata": {
    "collapsed": false,
    "pycharm": {
     "name": "#%%\n"
    }
   }
  },
  {
   "cell_type": "markdown",
   "metadata": {},
   "source": [
    "### Task 3. Interpretation\n",
    "\n",
    "Interpret the $p$-value in this example and  state the result of the hypothesis test at the $\\alpha=5\\%$ and $\\alpha=1\\%$ significance levels. \n"
   ]
  },
  {
   "cell_type": "markdown",
   "metadata": {},
   "source": [
    "**Your Interpretation:** Since the p value is greater than both a = 5% and a = 1%, we can assume that the null hypothesis is true and that logo B is significantly better than A."
   ]
  }
 ],
 "metadata": {
  "kernelspec": {
   "display_name": "Python 3",
   "language": "python",
   "name": "python3"
  },
  "language_info": {
   "codemirror_mode": {
    "name": "ipython",
    "version": 3
   },
   "file_extension": ".py",
   "mimetype": "text/x-python",
   "name": "python",
   "nbconvert_exporter": "python",
   "pygments_lexer": "ipython3",
   "version": "3.8.3"
  }
 },
 "nbformat": 4,
 "nbformat_minor": 4
}